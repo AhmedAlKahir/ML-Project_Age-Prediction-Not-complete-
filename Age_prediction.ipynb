{
 "cells": [
  {
   "cell_type": "code",
   "execution_count": 1,
   "metadata": {},
   "outputs": [],
   "source": [
    "import numpy as np\n",
    "import pandas as pd\n",
    "import matplotlib.pyplot as plt"
   ]
  },
  {
   "cell_type": "code",
   "execution_count": 2,
   "metadata": {},
   "outputs": [
    {
     "data": {
      "text/html": [
       "<div>\n",
       "<style scoped>\n",
       "    .dataframe tbody tr th:only-of-type {\n",
       "        vertical-align: middle;\n",
       "    }\n",
       "\n",
       "    .dataframe tbody tr th {\n",
       "        vertical-align: top;\n",
       "    }\n",
       "\n",
       "    .dataframe thead th {\n",
       "        text-align: right;\n",
       "    }\n",
       "</style>\n",
       "<table border=\"1\" class=\"dataframe\">\n",
       "  <thead>\n",
       "    <tr style=\"text-align: right;\">\n",
       "      <th></th>\n",
       "      <th>Height</th>\n",
       "      <th>Weight</th>\n",
       "      <th>Age</th>\n",
       "    </tr>\n",
       "  </thead>\n",
       "  <tbody>\n",
       "    <tr>\n",
       "      <th>0</th>\n",
       "      <td>5.40</td>\n",
       "      <td>60.0</td>\n",
       "      <td>25</td>\n",
       "    </tr>\n",
       "    <tr>\n",
       "      <th>1</th>\n",
       "      <td>5.90</td>\n",
       "      <td>50.0</td>\n",
       "      <td>19</td>\n",
       "    </tr>\n",
       "    <tr>\n",
       "      <th>2</th>\n",
       "      <td>4.11</td>\n",
       "      <td>40.0</td>\n",
       "      <td>18</td>\n",
       "    </tr>\n",
       "    <tr>\n",
       "      <th>3</th>\n",
       "      <td>5.50</td>\n",
       "      <td>70.0</td>\n",
       "      <td>25</td>\n",
       "    </tr>\n",
       "    <tr>\n",
       "      <th>4</th>\n",
       "      <td>5.80</td>\n",
       "      <td>55.0</td>\n",
       "      <td>23</td>\n",
       "    </tr>\n",
       "  </tbody>\n",
       "</table>\n",
       "</div>"
      ],
      "text/plain": [
       "   Height  Weight  Age\n",
       "0    5.40    60.0   25\n",
       "1    5.90    50.0   19\n",
       "2    4.11    40.0   18\n",
       "3    5.50    70.0   25\n",
       "4    5.80    55.0   23"
      ]
     },
     "execution_count": 2,
     "metadata": {},
     "output_type": "execute_result"
    }
   ],
   "source": [
    "data=pd.read_csv('data.csv', delimiter=',',names = ['Height','Weight','Age'])\n",
    "data.head()\n",
    "#print(data)"
   ]
  },
  {
   "cell_type": "code",
   "execution_count": 3,
   "metadata": {},
   "outputs": [],
   "source": [
    "x1=data.Height\n",
    "x2=data.Weight\n",
    "y=data.Age"
   ]
  },
  {
   "cell_type": "code",
   "execution_count": 4,
   "metadata": {},
   "outputs": [
    {
     "data": {
      "image/png": "[encoded data removed]",
      "text/plain": [
       "<Figure size 432x288 with 1 Axes>"
      ]
     },
     "metadata": {
      "needs_background": "light"
     },
     "output_type": "display_data"
    }
   ],
   "source": [
    "plt.scatter(x1,y, color = 'red') \n",
    "plt.title('Height vs AGE')\n",
    "plt.xlabel('Height')\n",
    "plt.ylabel('AGE')\n",
    "plt.show()"
   ]
  },
  {
   "cell_type": "code",
   "execution_count": 5,
   "metadata": {},
   "outputs": [],
   "source": [
    "def DM1(m1,m2,c,x1,x2,y):\n",
    "    s=0\n",
    "    for i in range(len(x1)):\n",
    "        s+=x1[i]*(y[i]-m1*x1[i]-m2*x2[i]-c)\n",
    "    return -(2/len(x1))*s"
   ]
  },
  {
   "cell_type": "code",
   "execution_count": 6,
   "metadata": {},
   "outputs": [],
   "source": [
    "def DM2(m1,m2,c,x1,x2,y):\n",
    "    s=0\n",
    "    for i in range(len(x1)):\n",
    "        s+=x2[i]*(y[i]-m1*x1[i]-m2*x2[i]-c)\n",
    "    return -(2/len(x1))*s"
   ]
  },
  {
   "cell_type": "code",
   "execution_count": 7,
   "metadata": {},
   "outputs": [],
   "source": [
    "def DC(m1,m2,c,x1,x2,y):\n",
    "    s=0\n",
    "    for i in range(len(x1)):\n",
    "        s+=(y[i]-m1*x1[i]-m2*x2[i]-c)\n",
    "    return -(2/len(x1))*s"
   ]
  },
  {
   "cell_type": "code",
   "execution_count": 8,
   "metadata": {},
   "outputs": [],
   "source": [
    "def GD(x1,x2,y):\n",
    "    m1=0\n",
    "    m2=0\n",
    "    c=0\n",
    "    ep=230\n",
    "    L=0.0001\n",
    "    for i in range(ep):\n",
    "        dm1=DM1(m1,m2,c,x1,x2,y)\n",
    "        dm2=DM2(m1,m2,c,x1,x2,y)\n",
    "        dc=DC(m1,m2,c,x1,x2,y)\n",
    "        m1=m1-L*dm1\n",
    "        m2=m1-L*dm2\n",
    "        c-=L*dc\n",
    "        #print(m,c)\n",
    "    return m1,m2,c"
   ]
  },
  {
   "cell_type": "code",
   "execution_count": 9,
   "metadata": {},
   "outputs": [],
   "source": [
    "m1,m2,c=GD(x1,x2,y)\n",
    "#print(m1,m2,c)"
   ]
  },
  {
   "cell_type": "code",
   "execution_count": 10,
   "metadata": {
    "scrolled": true
   },
   "outputs": [],
   "source": [
    "age=[]\n",
    "for i in range(len(x1)):\n",
    "    y1=m1*x1[i]+m2*x2[i]+c\n",
    "    age.append(y1)\n",
    "#print(age)\n",
    "#print(len(age))"
   ]
  },
  {
   "cell_type": "code",
   "execution_count": 11,
   "metadata": {},
   "outputs": [
    {
     "name": "stdout",
     "output_type": "stream",
     "text": [
      "Accuracy =  5.0\n"
     ]
    }
   ],
   "source": [
    "len=20 \n",
    "cnt=0\n",
    "for i in range(len):\n",
    "    a = int(m1*x1[i]+m2*x2[i]+c)\n",
    "    if(a==y[i]):\n",
    "        cnt=cnt+1\n",
    "print(\"Accuracy = \",(cnt/len)*100)"
   ]
  },
  {
   "cell_type": "code",
   "execution_count": 12,
   "metadata": {},
   "outputs": [
    {
     "name": "stdout",
     "output_type": "stream",
     "text": [
      "Enter Height :16.5\n",
      "Enter Weight :58\n",
      "Age : 44 Years\n"
     ]
    }
   ],
   "source": [
    "h=eval(input(\"Enter Height :\"))\n",
    "w=eval(input(\"Enter Weight :\"))\n",
    "a = int(m1*h+m2*w+c)\n",
    "print('Age :',a,'Years')"
   ]
  },
  {
   "cell_type": "code",
   "execution_count": null,
   "metadata": {},
   "outputs": [],
   "source": []
  },
  {
   "cell_type": "code",
   "execution_count": null,
   "metadata": {},
   "outputs": [],
   "source": []
  },
  {
   "cell_type": "code",
   "execution_count": null,
   "metadata": {},
   "outputs": [],
   "source": []
  }
 ],
 "metadata": {
  "kernelspec": {
   "display_name": "Python 3",
   "language": "python",
   "name": "python3"
  },
  "language_info": {
   "codemirror_mode": {
    "name": "ipython",
    "version": 3
   },
   "file_extension": ".py",
   "mimetype": "text/x-python",
   "name": "python",
   "nbconvert_exporter": "python",
   "pygments_lexer": "ipython3",
   "version": "3.7.3"
  }
 },
 "nbformat": 4,
 "nbformat_minor": 2
}
